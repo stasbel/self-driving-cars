{
 "cells": [
  {
   "cell_type": "code",
   "execution_count": 1,
   "metadata": {},
   "outputs": [],
   "source": [
    "import tqdm\n",
    "import numpy as np\n",
    "import pandas as pd\n",
    "\n",
    "from sklearn.neighbors import NearestNeighbors"
   ]
  },
  {
   "cell_type": "code",
   "execution_count": 137,
   "metadata": {},
   "outputs": [],
   "source": [
    "def precission(y_hat, y_true):\n",
    "    tp = np.sum(y_true[y_hat == 1])\n",
    "    tot_p = np.sum(y_hat)\n",
    "    \n",
    "    return tp / tot_p\n",
    "\n",
    "def recall(y_hat, y_true):\n",
    "    tp = np.sum(y_true[y_hat == 1])\n",
    "    fn = np.sum(y_true[y_hat==0])\n",
    "    \n",
    "    return tp / (tp + fn)"
   ]
  },
  {
   "cell_type": "code",
   "execution_count": 3,
   "metadata": {},
   "outputs": [
    {
     "data": {
      "text/html": [
       "<div>\n",
       "<style scoped>\n",
       "    .dataframe tbody tr th:only-of-type {\n",
       "        vertical-align: middle;\n",
       "    }\n",
       "\n",
       "    .dataframe tbody tr th {\n",
       "        vertical-align: top;\n",
       "    }\n",
       "\n",
       "    .dataframe thead th {\n",
       "        text-align: right;\n",
       "    }\n",
       "</style>\n",
       "<table border=\"1\" class=\"dataframe\">\n",
       "  <thead>\n",
       "    <tr style=\"text-align: right;\">\n",
       "      <th></th>\n",
       "      <th>id</th>\n",
       "      <th>stamp</th>\n",
       "      <th>seq</th>\n",
       "      <th>x</th>\n",
       "      <th>y</th>\n",
       "      <th>z</th>\n",
       "      <th>probability</th>\n",
       "      <th>relative_radial_velocity</th>\n",
       "      <th>relative_lateral_velocity</th>\n",
       "      <th>cross_section</th>\n",
       "      <th>distance_rms</th>\n",
       "      <th>angle_rms</th>\n",
       "      <th>radial_velocity_rms</th>\n",
       "      <th>is_cylindrical</th>\n",
       "      <th>absolute_radial_velocity</th>\n",
       "      <th>belongs_to_object</th>\n",
       "      <th>object_label</th>\n",
       "    </tr>\n",
       "  </thead>\n",
       "  <tbody>\n",
       "    <tr>\n",
       "      <td>0</td>\n",
       "      <td>0</td>\n",
       "      <td>1.523894e+09</td>\n",
       "      <td>52</td>\n",
       "      <td>476.396881</td>\n",
       "      <td>559.627075</td>\n",
       "      <td>0.3</td>\n",
       "      <td>0.999</td>\n",
       "      <td>0.000000</td>\n",
       "      <td>0.0</td>\n",
       "      <td>-9.0</td>\n",
       "      <td>0.0</td>\n",
       "      <td>0.0</td>\n",
       "      <td>0.0</td>\n",
       "      <td>0.0</td>\n",
       "      <td>0.000000</td>\n",
       "      <td>0</td>\n",
       "      <td>0</td>\n",
       "    </tr>\n",
       "    <tr>\n",
       "      <td>1</td>\n",
       "      <td>1</td>\n",
       "      <td>1.523894e+09</td>\n",
       "      <td>52</td>\n",
       "      <td>479.438354</td>\n",
       "      <td>566.931030</td>\n",
       "      <td>0.3</td>\n",
       "      <td>0.250</td>\n",
       "      <td>1.100242</td>\n",
       "      <td>0.0</td>\n",
       "      <td>-3.5</td>\n",
       "      <td>0.0</td>\n",
       "      <td>0.0</td>\n",
       "      <td>0.0</td>\n",
       "      <td>0.0</td>\n",
       "      <td>1.100242</td>\n",
       "      <td>0</td>\n",
       "      <td>0</td>\n",
       "    </tr>\n",
       "    <tr>\n",
       "      <td>2</td>\n",
       "      <td>2</td>\n",
       "      <td>1.523894e+09</td>\n",
       "      <td>52</td>\n",
       "      <td>480.062286</td>\n",
       "      <td>566.430298</td>\n",
       "      <td>0.3</td>\n",
       "      <td>0.750</td>\n",
       "      <td>1.488896</td>\n",
       "      <td>0.0</td>\n",
       "      <td>-12.5</td>\n",
       "      <td>0.0</td>\n",
       "      <td>0.0</td>\n",
       "      <td>0.0</td>\n",
       "      <td>0.0</td>\n",
       "      <td>1.488896</td>\n",
       "      <td>0</td>\n",
       "      <td>0</td>\n",
       "    </tr>\n",
       "    <tr>\n",
       "      <td>3</td>\n",
       "      <td>3</td>\n",
       "      <td>1.523894e+09</td>\n",
       "      <td>52</td>\n",
       "      <td>480.721039</td>\n",
       "      <td>568.209595</td>\n",
       "      <td>0.3</td>\n",
       "      <td>0.250</td>\n",
       "      <td>0.677458</td>\n",
       "      <td>0.0</td>\n",
       "      <td>-5.5</td>\n",
       "      <td>0.0</td>\n",
       "      <td>0.0</td>\n",
       "      <td>0.0</td>\n",
       "      <td>0.0</td>\n",
       "      <td>0.677458</td>\n",
       "      <td>0</td>\n",
       "      <td>0</td>\n",
       "    </tr>\n",
       "    <tr>\n",
       "      <td>4</td>\n",
       "      <td>4</td>\n",
       "      <td>1.523894e+09</td>\n",
       "      <td>52</td>\n",
       "      <td>481.002228</td>\n",
       "      <td>568.240417</td>\n",
       "      <td>0.3</td>\n",
       "      <td>0.750</td>\n",
       "      <td>0.225063</td>\n",
       "      <td>0.0</td>\n",
       "      <td>-9.5</td>\n",
       "      <td>0.0</td>\n",
       "      <td>0.0</td>\n",
       "      <td>0.0</td>\n",
       "      <td>0.0</td>\n",
       "      <td>0.225063</td>\n",
       "      <td>0</td>\n",
       "      <td>0</td>\n",
       "    </tr>\n",
       "  </tbody>\n",
       "</table>\n",
       "</div>"
      ],
      "text/plain": [
       "   id         stamp  seq           x           y    z  probability  \\\n",
       "0   0  1.523894e+09   52  476.396881  559.627075  0.3        0.999   \n",
       "1   1  1.523894e+09   52  479.438354  566.931030  0.3        0.250   \n",
       "2   2  1.523894e+09   52  480.062286  566.430298  0.3        0.750   \n",
       "3   3  1.523894e+09   52  480.721039  568.209595  0.3        0.250   \n",
       "4   4  1.523894e+09   52  481.002228  568.240417  0.3        0.750   \n",
       "\n",
       "   relative_radial_velocity  relative_lateral_velocity  cross_section  \\\n",
       "0                  0.000000                        0.0           -9.0   \n",
       "1                  1.100242                        0.0           -3.5   \n",
       "2                  1.488896                        0.0          -12.5   \n",
       "3                  0.677458                        0.0           -5.5   \n",
       "4                  0.225063                        0.0           -9.5   \n",
       "\n",
       "   distance_rms  angle_rms  radial_velocity_rms  is_cylindrical  \\\n",
       "0           0.0        0.0                  0.0             0.0   \n",
       "1           0.0        0.0                  0.0             0.0   \n",
       "2           0.0        0.0                  0.0             0.0   \n",
       "3           0.0        0.0                  0.0             0.0   \n",
       "4           0.0        0.0                  0.0             0.0   \n",
       "\n",
       "   absolute_radial_velocity  belongs_to_object  object_label  \n",
       "0                  0.000000                  0             0  \n",
       "1                  1.100242                  0             0  \n",
       "2                  1.488896                  0             0  \n",
       "3                  0.677458                  0             0  \n",
       "4                  0.225063                  0             0  "
      ]
     },
     "execution_count": 3,
     "metadata": {},
     "output_type": "execute_result"
    }
   ],
   "source": [
    "ds = pd.read_csv('data/hw02/radar_points.txt')\n",
    "ds.seq = ds.seq.astype(int)\n",
    "ds.object_label = ds.object_label.astype(int)\n",
    "ds.belongs_to_object = ds.belongs_to_object.astype(int)\n",
    "ds.head()"
   ]
  },
  {
   "cell_type": "code",
   "execution_count": 4,
   "metadata": {},
   "outputs": [
    {
     "data": {
      "text/html": [
       "<div>\n",
       "<style scoped>\n",
       "    .dataframe tbody tr th:only-of-type {\n",
       "        vertical-align: middle;\n",
       "    }\n",
       "\n",
       "    .dataframe tbody tr th {\n",
       "        vertical-align: top;\n",
       "    }\n",
       "\n",
       "    .dataframe thead th {\n",
       "        text-align: right;\n",
       "    }\n",
       "</style>\n",
       "<table border=\"1\" class=\"dataframe\">\n",
       "  <thead>\n",
       "    <tr style=\"text-align: right;\">\n",
       "      <th></th>\n",
       "      <th>id</th>\n",
       "      <th>stamp</th>\n",
       "      <th>seq</th>\n",
       "      <th>x</th>\n",
       "      <th>y</th>\n",
       "      <th>z</th>\n",
       "      <th>probability</th>\n",
       "      <th>relative_radial_velocity</th>\n",
       "      <th>relative_lateral_velocity</th>\n",
       "      <th>cross_section</th>\n",
       "      <th>distance_rms</th>\n",
       "      <th>angle_rms</th>\n",
       "      <th>radial_velocity_rms</th>\n",
       "      <th>is_cylindrical</th>\n",
       "      <th>absolute_radial_velocity</th>\n",
       "      <th>belongs_to_object</th>\n",
       "      <th>object_label</th>\n",
       "    </tr>\n",
       "  </thead>\n",
       "  <tbody>\n",
       "    <tr>\n",
       "      <td>99112</td>\n",
       "      <td>126</td>\n",
       "      <td>1.523894e+09</td>\n",
       "      <td>1032</td>\n",
       "      <td>678.717834</td>\n",
       "      <td>805.607727</td>\n",
       "      <td>0.3</td>\n",
       "      <td>0.999</td>\n",
       "      <td>-0.741797</td>\n",
       "      <td>0.0</td>\n",
       "      <td>-14.0</td>\n",
       "      <td>0.0</td>\n",
       "      <td>0.0</td>\n",
       "      <td>0.0</td>\n",
       "      <td>0.0</td>\n",
       "      <td>-1.836032</td>\n",
       "      <td>0</td>\n",
       "      <td>0</td>\n",
       "    </tr>\n",
       "    <tr>\n",
       "      <td>99113</td>\n",
       "      <td>127</td>\n",
       "      <td>1.523894e+09</td>\n",
       "      <td>1032</td>\n",
       "      <td>677.080444</td>\n",
       "      <td>807.090637</td>\n",
       "      <td>0.3</td>\n",
       "      <td>0.750</td>\n",
       "      <td>-0.249768</td>\n",
       "      <td>0.0</td>\n",
       "      <td>-17.0</td>\n",
       "      <td>0.0</td>\n",
       "      <td>0.0</td>\n",
       "      <td>0.0</td>\n",
       "      <td>0.0</td>\n",
       "      <td>0.375898</td>\n",
       "      <td>0</td>\n",
       "      <td>0</td>\n",
       "    </tr>\n",
       "    <tr>\n",
       "      <td>99114</td>\n",
       "      <td>128</td>\n",
       "      <td>1.523894e+09</td>\n",
       "      <td>1032</td>\n",
       "      <td>677.180908</td>\n",
       "      <td>806.095703</td>\n",
       "      <td>0.3</td>\n",
       "      <td>0.999</td>\n",
       "      <td>-0.499849</td>\n",
       "      <td>0.0</td>\n",
       "      <td>-23.5</td>\n",
       "      <td>0.0</td>\n",
       "      <td>0.0</td>\n",
       "      <td>0.0</td>\n",
       "      <td>0.0</td>\n",
       "      <td>-0.483745</td>\n",
       "      <td>0</td>\n",
       "      <td>0</td>\n",
       "    </tr>\n",
       "    <tr>\n",
       "      <td>99115</td>\n",
       "      <td>129</td>\n",
       "      <td>1.523894e+09</td>\n",
       "      <td>1032</td>\n",
       "      <td>673.983521</td>\n",
       "      <td>807.501404</td>\n",
       "      <td>0.3</td>\n",
       "      <td>0.999</td>\n",
       "      <td>0.000000</td>\n",
       "      <td>0.0</td>\n",
       "      <td>-8.5</td>\n",
       "      <td>0.0</td>\n",
       "      <td>0.0</td>\n",
       "      <td>0.0</td>\n",
       "      <td>0.0</td>\n",
       "      <td>2.112201</td>\n",
       "      <td>0</td>\n",
       "      <td>0</td>\n",
       "    </tr>\n",
       "    <tr>\n",
       "      <td>99116</td>\n",
       "      <td>130</td>\n",
       "      <td>1.523894e+09</td>\n",
       "      <td>1032</td>\n",
       "      <td>674.780273</td>\n",
       "      <td>802.797729</td>\n",
       "      <td>0.3</td>\n",
       "      <td>0.250</td>\n",
       "      <td>0.249426</td>\n",
       "      <td>0.0</td>\n",
       "      <td>6.5</td>\n",
       "      <td>0.0</td>\n",
       "      <td>0.0</td>\n",
       "      <td>0.0</td>\n",
       "      <td>0.0</td>\n",
       "      <td>-0.123979</td>\n",
       "      <td>0</td>\n",
       "      <td>0</td>\n",
       "    </tr>\n",
       "  </tbody>\n",
       "</table>\n",
       "</div>"
      ],
      "text/plain": [
       "        id         stamp   seq           x           y    z  probability  \\\n",
       "99112  126  1.523894e+09  1032  678.717834  805.607727  0.3        0.999   \n",
       "99113  127  1.523894e+09  1032  677.080444  807.090637  0.3        0.750   \n",
       "99114  128  1.523894e+09  1032  677.180908  806.095703  0.3        0.999   \n",
       "99115  129  1.523894e+09  1032  673.983521  807.501404  0.3        0.999   \n",
       "99116  130  1.523894e+09  1032  674.780273  802.797729  0.3        0.250   \n",
       "\n",
       "       relative_radial_velocity  relative_lateral_velocity  cross_section  \\\n",
       "99112                 -0.741797                        0.0          -14.0   \n",
       "99113                 -0.249768                        0.0          -17.0   \n",
       "99114                 -0.499849                        0.0          -23.5   \n",
       "99115                  0.000000                        0.0           -8.5   \n",
       "99116                  0.249426                        0.0            6.5   \n",
       "\n",
       "       distance_rms  angle_rms  radial_velocity_rms  is_cylindrical  \\\n",
       "99112           0.0        0.0                  0.0             0.0   \n",
       "99113           0.0        0.0                  0.0             0.0   \n",
       "99114           0.0        0.0                  0.0             0.0   \n",
       "99115           0.0        0.0                  0.0             0.0   \n",
       "99116           0.0        0.0                  0.0             0.0   \n",
       "\n",
       "       absolute_radial_velocity  belongs_to_object  object_label  \n",
       "99112                 -1.836032                  0             0  \n",
       "99113                  0.375898                  0             0  \n",
       "99114                 -0.483745                  0             0  \n",
       "99115                  2.112201                  0             0  \n",
       "99116                 -0.123979                  0             0  "
      ]
     },
     "execution_count": 4,
     "metadata": {},
     "output_type": "execute_result"
    }
   ],
   "source": [
    "ds.tail()"
   ]
  },
  {
   "cell_type": "code",
   "execution_count": 5,
   "metadata": {},
   "outputs": [
    {
     "data": {
      "text/plain": [
       "(99117, 17)"
      ]
     },
     "execution_count": 5,
     "metadata": {},
     "output_type": "execute_result"
    }
   ],
   "source": [
    "ds.shape"
   ]
  },
  {
   "cell_type": "code",
   "execution_count": 6,
   "metadata": {},
   "outputs": [],
   "source": [
    "DROPS = [  # Single value columns.\n",
    "    'z',\n",
    "    'relative_lateral_velocity',\n",
    "    'distance_rms',\n",
    "    'angle_rms',\n",
    "    'radial_velocity_rms',\n",
    "    'is_cylindrical',\n",
    "]"
   ]
  },
  {
   "cell_type": "code",
   "execution_count": 7,
   "metadata": {},
   "outputs": [
    {
     "data": {
      "text/html": [
       "<div>\n",
       "<style scoped>\n",
       "    .dataframe tbody tr th:only-of-type {\n",
       "        vertical-align: middle;\n",
       "    }\n",
       "\n",
       "    .dataframe tbody tr th {\n",
       "        vertical-align: top;\n",
       "    }\n",
       "\n",
       "    .dataframe thead th {\n",
       "        text-align: right;\n",
       "    }\n",
       "</style>\n",
       "<table border=\"1\" class=\"dataframe\">\n",
       "  <thead>\n",
       "    <tr style=\"text-align: right;\">\n",
       "      <th></th>\n",
       "      <th>id</th>\n",
       "      <th>stamp</th>\n",
       "      <th>seq</th>\n",
       "      <th>x</th>\n",
       "      <th>y</th>\n",
       "      <th>probability</th>\n",
       "      <th>relative_radial_velocity</th>\n",
       "      <th>cross_section</th>\n",
       "      <th>absolute_radial_velocity</th>\n",
       "      <th>belongs_to_object</th>\n",
       "      <th>object_label</th>\n",
       "    </tr>\n",
       "  </thead>\n",
       "  <tbody>\n",
       "    <tr>\n",
       "      <td>0</td>\n",
       "      <td>0</td>\n",
       "      <td>1.523894e+09</td>\n",
       "      <td>52</td>\n",
       "      <td>476.396881</td>\n",
       "      <td>559.627075</td>\n",
       "      <td>0.999</td>\n",
       "      <td>0.000000</td>\n",
       "      <td>-9.0</td>\n",
       "      <td>0.000000</td>\n",
       "      <td>0</td>\n",
       "      <td>0</td>\n",
       "    </tr>\n",
       "    <tr>\n",
       "      <td>1</td>\n",
       "      <td>1</td>\n",
       "      <td>1.523894e+09</td>\n",
       "      <td>52</td>\n",
       "      <td>479.438354</td>\n",
       "      <td>566.931030</td>\n",
       "      <td>0.250</td>\n",
       "      <td>1.100242</td>\n",
       "      <td>-3.5</td>\n",
       "      <td>1.100242</td>\n",
       "      <td>0</td>\n",
       "      <td>0</td>\n",
       "    </tr>\n",
       "    <tr>\n",
       "      <td>2</td>\n",
       "      <td>2</td>\n",
       "      <td>1.523894e+09</td>\n",
       "      <td>52</td>\n",
       "      <td>480.062286</td>\n",
       "      <td>566.430298</td>\n",
       "      <td>0.750</td>\n",
       "      <td>1.488896</td>\n",
       "      <td>-12.5</td>\n",
       "      <td>1.488896</td>\n",
       "      <td>0</td>\n",
       "      <td>0</td>\n",
       "    </tr>\n",
       "    <tr>\n",
       "      <td>3</td>\n",
       "      <td>3</td>\n",
       "      <td>1.523894e+09</td>\n",
       "      <td>52</td>\n",
       "      <td>480.721039</td>\n",
       "      <td>568.209595</td>\n",
       "      <td>0.250</td>\n",
       "      <td>0.677458</td>\n",
       "      <td>-5.5</td>\n",
       "      <td>0.677458</td>\n",
       "      <td>0</td>\n",
       "      <td>0</td>\n",
       "    </tr>\n",
       "    <tr>\n",
       "      <td>4</td>\n",
       "      <td>4</td>\n",
       "      <td>1.523894e+09</td>\n",
       "      <td>52</td>\n",
       "      <td>481.002228</td>\n",
       "      <td>568.240417</td>\n",
       "      <td>0.750</td>\n",
       "      <td>0.225063</td>\n",
       "      <td>-9.5</td>\n",
       "      <td>0.225063</td>\n",
       "      <td>0</td>\n",
       "      <td>0</td>\n",
       "    </tr>\n",
       "  </tbody>\n",
       "</table>\n",
       "</div>"
      ],
      "text/plain": [
       "   id         stamp  seq           x           y  probability  \\\n",
       "0   0  1.523894e+09   52  476.396881  559.627075        0.999   \n",
       "1   1  1.523894e+09   52  479.438354  566.931030        0.250   \n",
       "2   2  1.523894e+09   52  480.062286  566.430298        0.750   \n",
       "3   3  1.523894e+09   52  480.721039  568.209595        0.250   \n",
       "4   4  1.523894e+09   52  481.002228  568.240417        0.750   \n",
       "\n",
       "   relative_radial_velocity  cross_section  absolute_radial_velocity  \\\n",
       "0                  0.000000           -9.0                  0.000000   \n",
       "1                  1.100242           -3.5                  1.100242   \n",
       "2                  1.488896          -12.5                  1.488896   \n",
       "3                  0.677458           -5.5                  0.677458   \n",
       "4                  0.225063           -9.5                  0.225063   \n",
       "\n",
       "   belongs_to_object  object_label  \n",
       "0                  0             0  \n",
       "1                  0             0  \n",
       "2                  0             0  \n",
       "3                  0             0  \n",
       "4                  0             0  "
      ]
     },
     "execution_count": 7,
     "metadata": {},
     "output_type": "execute_result"
    }
   ],
   "source": [
    "ds.drop(DROPS, axis=1, inplace=True)\n",
    "ds.head()"
   ]
  },
  {
   "cell_type": "code",
   "execution_count": 8,
   "metadata": {},
   "outputs": [],
   "source": [
    "# label_counts = ds.object_label.value_counts()\n",
    "# bad_labels = label_counts[label_counts < 10].index.tolist()\n",
    "# for bad_label in bad_labels:\n",
    "#     ds = ds[ds.object_label != bad_label]\n",
    "# ds.object_label.value_counts()"
   ]
  },
  {
   "cell_type": "markdown",
   "metadata": {},
   "source": [
    "## Что тут есть?\n",
    "\n",
    "cross_section - можно думать, что это логарифм площади  \n",
    "relative_lateral_velocity - скорость относительно радара, радиальная ее часть  \n",
    "absolute_radial_velocity - скорость относительно мира\n",
    "\n",
    "belongs_to_object - попала ли точка по нашему мненияю на машину"
   ]
  },
  {
   "cell_type": "markdown",
   "metadata": {},
   "source": [
    "### Эвристика №1\n",
    "\n",
    "![](./img/credo.jpg)\n",
    "\n",
    "Машины большие и едут быстро"
   ]
  },
  {
   "cell_type": "code",
   "execution_count": 9,
   "metadata": {},
   "outputs": [
    {
     "name": "stdout",
     "output_type": "stream",
     "text": [
      "precission 0.3082339135536867\n",
      "recall 0.11514575874917805\n"
     ]
    }
   ],
   "source": [
    "def big_cars_sol(ds):\n",
    "    y_hat = np.zeros(len(ds.values))\n",
    "    dummy_mask = ds.absolute_radial_velocity > 2\n",
    "    y_hat[dummy_mask] = 1\n",
    "    return y_hat.astype(int)\n",
    "\n",
    "y_hat = big_cars_sol(ds)\n",
    "print('precission', precission(y_hat, ds.belongs_to_object.values))\n",
    "print('recall', recall(y_hat, ds.belongs_to_object.values))"
   ]
  },
  {
   "cell_type": "markdown",
   "metadata": {},
   "source": [
    "### Эвристика №2\n",
    "\n",
    "Машины отражают по несколько точек"
   ]
  },
  {
   "cell_type": "code",
   "execution_count": 10,
   "metadata": {},
   "outputs": [
    {
     "name": "stdout",
     "output_type": "stream",
     "text": [
      "precission 0.1570003605335897\n",
      "recall 0.9544823555198363\n"
     ]
    }
   ],
   "source": [
    "def kkn2_sol(ds):\n",
    "    dummy_mask = ds.absolute_radial_velocity > 2\n",
    "    dummy_cars = ds[dummy_mask][['x', 'y']].values\n",
    "\n",
    "    y_hat = np.zeros(len(ds.values))\n",
    "    if dummy_cars.shape[0] >= 2:\n",
    "        index = NearestNeighbors(metric='l2')\n",
    "        index.fit(dummy_cars)\n",
    "        d, _ = index.kneighbors(ds[['x', 'y']], n_neighbors=2)\n",
    "        y_hat[(d < 2.0)[:, 0]] = 1\n",
    "\n",
    "    return y_hat.astype(int)\n",
    "\n",
    "y_hat = kkn2_sol(ds)\n",
    "print('precission', precission(y_hat, ds.belongs_to_object.values))\n",
    "print('recall', recall(y_hat, ds.belongs_to_object.values))"
   ]
  },
  {
   "cell_type": "code",
   "execution_count": 11,
   "metadata": {},
   "outputs": [],
   "source": [
    "import matplotlib.pyplot as plt\n",
    "from IPython import display\n",
    "import time"
   ]
  },
  {
   "cell_type": "code",
   "execution_count": 12,
   "metadata": {},
   "outputs": [],
   "source": [
    "# ax = plt.gca()\n",
    "# for seq in sorted(ds.seq.unique()):\n",
    "#     ax.clear()\n",
    "#     scene = ds[ds.seq == seq]\n",
    "#     plt.scatter(scene.x, scene.y, s=5, c=scene.relative_radial_velocity)\n",
    "#     ax.set_xlim((450,490))\n",
    "#     ax.set_ylim((555,580))\n",
    "#     display.clear_output(wait=True)\n",
    "#     display.display(plt.gcf())\n",
    "#     time.sleep(0.01)"
   ]
  },
  {
   "cell_type": "markdown",
   "metadata": {},
   "source": [
    "### Tree"
   ]
  },
  {
   "cell_type": "code",
   "execution_count": 223,
   "metadata": {},
   "outputs": [],
   "source": [
    "stamp_order = ds.groupby('seq').apply(lambda x: x.stamp.max()).index.to_list()\n",
    "assert stamp_order == sorted(stamp_order), 'Seqs ordered by number.'"
   ]
  },
  {
   "cell_type": "code",
   "execution_count": 224,
   "metadata": {},
   "outputs": [],
   "source": [
    "def add_features(scene):\n",
    "    index = NearestNeighbors(metric='l2', n_jobs=8)\n",
    "    index.fit(scene[scene.absolute_radial_velocity > 2][['x', 'y']].values)\n",
    "    scene = scene.copy()\n",
    "    for radius in tqdm.tqdm((2, 5)):\n",
    "        _, a = index.radius_neighbors(scene[['x', 'y']].values, radius=radius)\n",
    "        a = np.array([len(e) for e in a])\n",
    "        scene['rad_{}'.format(radius)] = a\n",
    "    return scene"
   ]
  },
  {
   "cell_type": "code",
   "execution_count": 225,
   "metadata": {},
   "outputs": [
    {
     "name": "stderr",
     "output_type": "stream",
     "text": [
      "100%|██████████| 981/981 [00:00<00:00, 1434.40it/s]\n"
     ]
    },
    {
     "data": {
      "text/plain": [
       "(784, 49, 148)"
      ]
     },
     "execution_count": 225,
     "metadata": {},
     "output_type": "execute_result"
    }
   ],
   "source": [
    "scenes = []\n",
    "for seq in tqdm.tqdm(sorted(ds.seq.unique())):\n",
    "    scene = ds[ds.seq == seq]\n",
    "    scenes.append(scene)\n",
    "n = len(scenes)\n",
    "train = scenes[:int(0.8 * n)]\n",
    "val = scenes[int(0.8 * n): int(0.85 * n)]\n",
    "test = scenes[int(0.85 * n):]\n",
    "assert len(train) + len(val) + len(test) == n\n",
    "len(train), len(val), len(test)"
   ]
  },
  {
   "cell_type": "code",
   "execution_count": 226,
   "metadata": {},
   "outputs": [],
   "source": [
    "def to_ds(scenes):\n",
    "    scene_list = []\n",
    "    for scene in scenes:\n",
    "        scene_list.append(scene.values)\n",
    "    ds = np.concatenate(scene_list, axis=0)\n",
    "    ds = pd.DataFrame(ds, columns=scenes[0].columns)\n",
    "    ds = add_features(ds)\n",
    "    ds.drop(['id', 'stamp', 'seq'], axis=1, inplace=True)\n",
    "    return ds"
   ]
  },
  {
   "cell_type": "code",
   "execution_count": 227,
   "metadata": {},
   "outputs": [
    {
     "name": "stderr",
     "output_type": "stream",
     "text": [
      "100%|██████████| 2/2 [00:00<00:00,  3.44it/s]\n",
      "100%|██████████| 2/2 [00:00<00:00,  3.81it/s]\n",
      "100%|██████████| 2/2 [00:00<00:00,  3.00it/s]\n"
     ]
    },
    {
     "data": {
      "text/plain": [
       "((74496, 10), (4834, 10), (19786, 10))"
      ]
     },
     "execution_count": 227,
     "metadata": {},
     "output_type": "execute_result"
    }
   ],
   "source": [
    "train_ds = to_ds(train)\n",
    "val_ds = to_ds(train + val).iloc[train_ds.shape[0] + 1:, :]\n",
    "test_ds = to_ds(train + val + test).iloc[train_ds.shape[0] + val_ds.shape[0] + 1:, :]\n",
    "train_ds.shape, val_ds.shape, test_ds.shape"
   ]
  },
  {
   "cell_type": "code",
   "execution_count": 236,
   "metadata": {},
   "outputs": [],
   "source": [
    "LABEL = 'belongs_to_object'\n",
    "LABEL_COLUMS = ['x', 'y', 'object_label', 'belongs_to_object']"
   ]
  },
  {
   "cell_type": "code",
   "execution_count": 252,
   "metadata": {},
   "outputs": [],
   "source": [
    "import catboost\n",
    "\n",
    "def learn(X_train, X_val, y_train, y_val):\n",
    "    train_pool = catboost.Pool(X_train, y_train, cweight=[0.8, 0.2])\n",
    "    clf = catboost.CatBoostClassifier(\n",
    "        custom_loss=['AUC', 'Accuracy'],\n",
    "        n_estimators=100,\n",
    "        depth=8,\n",
    "    )\n",
    "    clf.fit(\n",
    "        train_pool,\n",
    "        early_stopping_rounds=10,\n",
    "        use_best_model=True, \n",
    "        eval_set=(X_val.values, y_val.values),\n",
    "        plot=True,\n",
    "        verbose=False,\n",
    "    )\n",
    "    return clf\n",
    "\n",
    "X_train = train_ds.drop(LABEL_COLUMS, axis=1)\n",
    "y_train = train_ds[LABEL]\n",
    "\n",
    "\n",
    "X_val = val_ds.drop(LABEL_COLUMS, axis=1)\n",
    "y_val = val_ds[LABEL]"
   ]
  },
  {
   "cell_type": "code",
   "execution_count": 253,
   "metadata": {},
   "outputs": [
    {
     "ename": "CatBoostError",
     "evalue": "Length of weight=2 and length of data=74496 are different.",
     "output_type": "error",
     "traceback": [
      "\u001b[0;31m---------------------------------------------------------------------------\u001b[0m",
      "\u001b[0;31mCatBoostError\u001b[0m                             Traceback (most recent call last)",
      "\u001b[0;32m<ipython-input-253-cd39a464a19f>\u001b[0m in \u001b[0;36m<module>\u001b[0;34m\u001b[0m\n\u001b[0;32m----> 1\u001b[0;31m \u001b[0mcls\u001b[0m \u001b[0;34m=\u001b[0m \u001b[0mlearn\u001b[0m\u001b[0;34m(\u001b[0m\u001b[0mX_train\u001b[0m\u001b[0;34m,\u001b[0m \u001b[0mX_val\u001b[0m\u001b[0;34m,\u001b[0m \u001b[0my_train\u001b[0m\u001b[0;34m,\u001b[0m \u001b[0my_val\u001b[0m\u001b[0;34m)\u001b[0m\u001b[0;34m\u001b[0m\u001b[0;34m\u001b[0m\u001b[0m\n\u001b[0m",
      "\u001b[0;32m<ipython-input-252-95eca127d02e>\u001b[0m in \u001b[0;36mlearn\u001b[0;34m(X_train, X_val, y_train, y_val)\u001b[0m\n\u001b[1;32m      2\u001b[0m \u001b[0;34m\u001b[0m\u001b[0m\n\u001b[1;32m      3\u001b[0m \u001b[0;32mdef\u001b[0m \u001b[0mlearn\u001b[0m\u001b[0;34m(\u001b[0m\u001b[0mX_train\u001b[0m\u001b[0;34m,\u001b[0m \u001b[0mX_val\u001b[0m\u001b[0;34m,\u001b[0m \u001b[0my_train\u001b[0m\u001b[0;34m,\u001b[0m \u001b[0my_val\u001b[0m\u001b[0;34m)\u001b[0m\u001b[0;34m:\u001b[0m\u001b[0;34m\u001b[0m\u001b[0;34m\u001b[0m\u001b[0m\n\u001b[0;32m----> 4\u001b[0;31m     \u001b[0mtrain_pool\u001b[0m \u001b[0;34m=\u001b[0m \u001b[0mcatboost\u001b[0m\u001b[0;34m.\u001b[0m\u001b[0mPool\u001b[0m\u001b[0;34m(\u001b[0m\u001b[0mX_train\u001b[0m\u001b[0;34m,\u001b[0m \u001b[0my_train\u001b[0m\u001b[0;34m,\u001b[0m \u001b[0mweight\u001b[0m\u001b[0;34m=\u001b[0m\u001b[0;34m[\u001b[0m\u001b[0;36m0.8\u001b[0m\u001b[0;34m,\u001b[0m \u001b[0;36m0.2\u001b[0m\u001b[0;34m]\u001b[0m\u001b[0;34m)\u001b[0m\u001b[0;34m\u001b[0m\u001b[0;34m\u001b[0m\u001b[0m\n\u001b[0m\u001b[1;32m      5\u001b[0m     clf = catboost.CatBoostClassifier(\n\u001b[1;32m      6\u001b[0m         \u001b[0mcustom_loss\u001b[0m\u001b[0;34m=\u001b[0m\u001b[0;34m[\u001b[0m\u001b[0;34m'AUC'\u001b[0m\u001b[0;34m,\u001b[0m \u001b[0;34m'Accuracy'\u001b[0m\u001b[0;34m]\u001b[0m\u001b[0;34m,\u001b[0m\u001b[0;34m\u001b[0m\u001b[0;34m\u001b[0m\u001b[0m\n",
      "\u001b[0;32m~/.miniconda3/envs/self-driving-cars/lib/python3.6/site-packages/catboost/core.py\u001b[0m in \u001b[0;36m__init__\u001b[0;34m(self, data, label, cat_features, column_description, pairs, delimiter, has_header, weight, group_id, group_weight, subgroup_id, pairs_weight, baseline, feature_names, thread_count)\u001b[0m\n\u001b[1;32m    329\u001b[0m                         )\n\u001b[1;32m    330\u001b[0m \u001b[0;34m\u001b[0m\u001b[0m\n\u001b[0;32m--> 331\u001b[0;31m                 \u001b[0mself\u001b[0m\u001b[0;34m.\u001b[0m\u001b[0m_init\u001b[0m\u001b[0;34m(\u001b[0m\u001b[0mdata\u001b[0m\u001b[0;34m,\u001b[0m \u001b[0mlabel\u001b[0m\u001b[0;34m,\u001b[0m \u001b[0mcat_features\u001b[0m\u001b[0;34m,\u001b[0m \u001b[0mpairs\u001b[0m\u001b[0;34m,\u001b[0m \u001b[0mweight\u001b[0m\u001b[0;34m,\u001b[0m \u001b[0mgroup_id\u001b[0m\u001b[0;34m,\u001b[0m \u001b[0mgroup_weight\u001b[0m\u001b[0;34m,\u001b[0m \u001b[0msubgroup_id\u001b[0m\u001b[0;34m,\u001b[0m \u001b[0mpairs_weight\u001b[0m\u001b[0;34m,\u001b[0m \u001b[0mbaseline\u001b[0m\u001b[0;34m,\u001b[0m \u001b[0mfeature_names\u001b[0m\u001b[0;34m)\u001b[0m\u001b[0;34m\u001b[0m\u001b[0;34m\u001b[0m\u001b[0m\n\u001b[0m\u001b[1;32m    332\u001b[0m         \u001b[0msuper\u001b[0m\u001b[0;34m(\u001b[0m\u001b[0mPool\u001b[0m\u001b[0;34m,\u001b[0m \u001b[0mself\u001b[0m\u001b[0;34m)\u001b[0m\u001b[0;34m.\u001b[0m\u001b[0m__init__\u001b[0m\u001b[0;34m(\u001b[0m\u001b[0;34m)\u001b[0m\u001b[0;34m\u001b[0m\u001b[0;34m\u001b[0m\u001b[0m\n\u001b[1;32m    333\u001b[0m \u001b[0;34m\u001b[0m\u001b[0m\n",
      "\u001b[0;32m~/.miniconda3/envs/self-driving-cars/lib/python3.6/site-packages/catboost/core.py\u001b[0m in \u001b[0;36m_init\u001b[0;34m(self, data, label, cat_features, pairs, weight, group_id, group_weight, subgroup_id, pairs_weight, baseline, feature_names)\u001b[0m\n\u001b[1;32m    795\u001b[0m             \u001b[0mself\u001b[0m\u001b[0;34m.\u001b[0m\u001b[0m_check_weight_type\u001b[0m\u001b[0;34m(\u001b[0m\u001b[0mweight\u001b[0m\u001b[0;34m)\u001b[0m\u001b[0;34m\u001b[0m\u001b[0;34m\u001b[0m\u001b[0m\n\u001b[1;32m    796\u001b[0m             \u001b[0mweight\u001b[0m \u001b[0;34m=\u001b[0m \u001b[0mself\u001b[0m\u001b[0;34m.\u001b[0m\u001b[0m_if_pandas_to_numpy\u001b[0m\u001b[0;34m(\u001b[0m\u001b[0mweight\u001b[0m\u001b[0;34m)\u001b[0m\u001b[0;34m\u001b[0m\u001b[0;34m\u001b[0m\u001b[0m\n\u001b[0;32m--> 797\u001b[0;31m             \u001b[0mself\u001b[0m\u001b[0;34m.\u001b[0m\u001b[0m_check_weight_shape\u001b[0m\u001b[0;34m(\u001b[0m\u001b[0mweight\u001b[0m\u001b[0;34m,\u001b[0m \u001b[0msamples_count\u001b[0m\u001b[0;34m)\u001b[0m\u001b[0;34m\u001b[0m\u001b[0;34m\u001b[0m\u001b[0m\n\u001b[0m\u001b[1;32m    798\u001b[0m         \u001b[0;32mif\u001b[0m \u001b[0mgroup_id\u001b[0m \u001b[0;32mis\u001b[0m \u001b[0;32mnot\u001b[0m \u001b[0;32mNone\u001b[0m\u001b[0;34m:\u001b[0m\u001b[0;34m\u001b[0m\u001b[0;34m\u001b[0m\u001b[0m\n\u001b[1;32m    799\u001b[0m             \u001b[0mself\u001b[0m\u001b[0;34m.\u001b[0m\u001b[0m_check_group_id_type\u001b[0m\u001b[0;34m(\u001b[0m\u001b[0mgroup_id\u001b[0m\u001b[0;34m)\u001b[0m\u001b[0;34m\u001b[0m\u001b[0;34m\u001b[0m\u001b[0m\n",
      "\u001b[0;32m~/.miniconda3/envs/self-driving-cars/lib/python3.6/site-packages/catboost/core.py\u001b[0m in \u001b[0;36m_check_weight_shape\u001b[0;34m(self, weight, samples_count)\u001b[0m\n\u001b[1;32m    479\u001b[0m         \"\"\"\n\u001b[1;32m    480\u001b[0m         \u001b[0;32mif\u001b[0m \u001b[0mlen\u001b[0m\u001b[0;34m(\u001b[0m\u001b[0mweight\u001b[0m\u001b[0;34m)\u001b[0m \u001b[0;34m!=\u001b[0m \u001b[0msamples_count\u001b[0m\u001b[0;34m:\u001b[0m\u001b[0;34m\u001b[0m\u001b[0;34m\u001b[0m\u001b[0m\n\u001b[0;32m--> 481\u001b[0;31m             \u001b[0;32mraise\u001b[0m \u001b[0mCatBoostError\u001b[0m\u001b[0;34m(\u001b[0m\u001b[0;34m\"Length of weight={} and length of data={} are different.\"\u001b[0m\u001b[0;34m.\u001b[0m\u001b[0mformat\u001b[0m\u001b[0;34m(\u001b[0m\u001b[0mlen\u001b[0m\u001b[0;34m(\u001b[0m\u001b[0mweight\u001b[0m\u001b[0;34m)\u001b[0m\u001b[0;34m,\u001b[0m \u001b[0msamples_count\u001b[0m\u001b[0;34m)\u001b[0m\u001b[0;34m)\u001b[0m\u001b[0;34m\u001b[0m\u001b[0;34m\u001b[0m\u001b[0m\n\u001b[0m\u001b[1;32m    482\u001b[0m         \u001b[0;32mif\u001b[0m \u001b[0;32mnot\u001b[0m \u001b[0misinstance\u001b[0m\u001b[0;34m(\u001b[0m\u001b[0mweight\u001b[0m\u001b[0;34m[\u001b[0m\u001b[0;36m0\u001b[0m\u001b[0;34m]\u001b[0m\u001b[0;34m,\u001b[0m \u001b[0;34m(\u001b[0m\u001b[0mINTEGER_TYPES\u001b[0m\u001b[0;34m,\u001b[0m \u001b[0mFLOAT_TYPES\u001b[0m\u001b[0;34m)\u001b[0m\u001b[0;34m)\u001b[0m\u001b[0;34m:\u001b[0m\u001b[0;34m\u001b[0m\u001b[0;34m\u001b[0m\u001b[0m\n\u001b[1;32m    483\u001b[0m             \u001b[0;32mraise\u001b[0m \u001b[0mCatBoostError\u001b[0m\u001b[0;34m(\u001b[0m\u001b[0;34m\"Invalid weight value type={}: must be 1 dimensional data with int, float or long types.\"\u001b[0m\u001b[0;34m.\u001b[0m\u001b[0mformat\u001b[0m\u001b[0;34m(\u001b[0m\u001b[0mtype\u001b[0m\u001b[0;34m(\u001b[0m\u001b[0mweight\u001b[0m\u001b[0;34m[\u001b[0m\u001b[0;36m0\u001b[0m\u001b[0;34m]\u001b[0m\u001b[0;34m)\u001b[0m\u001b[0;34m)\u001b[0m\u001b[0;34m)\u001b[0m\u001b[0;34m\u001b[0m\u001b[0;34m\u001b[0m\u001b[0m\n",
      "\u001b[0;31mCatBoostError\u001b[0m: Length of weight=2 and length of data=74496 are different."
     ]
    }
   ],
   "source": [
    "cls = learn(X_train, X_val, y_train, y_val)"
   ]
  },
  {
   "cell_type": "code",
   "execution_count": 231,
   "metadata": {},
   "outputs": [],
   "source": [
    "def cnt(y):\n",
    "    return pd.Series(y).value_counts()"
   ]
  },
  {
   "cell_type": "code",
   "execution_count": 245,
   "metadata": {},
   "outputs": [
    {
     "data": {
      "text/plain": [
       "0    16829\n",
       "1     2957\n",
       "dtype: int64"
      ]
     },
     "execution_count": 245,
     "metadata": {},
     "output_type": "execute_result"
    }
   ],
   "source": [
    "cnt(y_test)"
   ]
  },
  {
   "cell_type": "code",
   "execution_count": 244,
   "metadata": {},
   "outputs": [
    {
     "data": {
      "text/plain": [
       "0    19481\n",
       "1      305\n",
       "dtype: int64"
      ]
     },
     "execution_count": 244,
     "metadata": {},
     "output_type": "execute_result"
    }
   ],
   "source": [
    "cnt(y_hat)"
   ]
  },
  {
   "cell_type": "code",
   "execution_count": 243,
   "metadata": {},
   "outputs": [
    {
     "name": "stdout",
     "output_type": "stream",
     "text": [
      "precission 0.3344262295081967\n",
      "recall 0.034494420020290836\n"
     ]
    }
   ],
   "source": [
    "from sklearn.metrics import precision_recall_fscore_support\n",
    "X_test = test_ds.drop(LABEL_COLUMS, axis=1)\n",
    "y_test = test_ds[LABEL].values.astype(int)\n",
    "y_hat = cls.predict(X_test).astype(int)\n",
    "# y_hat = y_hat | kkn2_sol(test)\n",
    "# y_hat = kkn2_sol(test)\n",
    "# prec, recall, _, _ = precision_recall_fscore_support(y_test, y_hat, average='micro')\n",
    "# prec, recall\n",
    "print('precission', precission(y_hat, y_test))\n",
    "print('recall', recall(y_hat, y_test))"
   ]
  },
  {
   "cell_type": "code",
   "execution_count": 235,
   "metadata": {},
   "outputs": [
    {
     "name": "stdout",
     "output_type": "stream",
     "text": [
      "x 14.6349302900808\n",
      "y 22.96465100538107\n",
      "probability 0.0\n",
      "relative_radial_velocity 21.11788020214757\n",
      "cross_section 1.6291053501005714\n",
      "absolute_radial_velocity 5.232028743333452\n",
      "rad_2 8.151956062831742\n",
      "rad_5 26.269448346124804\n"
     ]
    }
   ],
   "source": [
    "for c, i in zip(X_test.columns, cls.feature_importances_):\n",
    "    print(c, i)"
   ]
  }
 ],
 "metadata": {
  "kernelspec": {
   "display_name": "Python 3",
   "language": "python",
   "name": "python3"
  },
  "language_info": {
   "codemirror_mode": {
    "name": "ipython",
    "version": 3
   },
   "file_extension": ".py",
   "mimetype": "text/x-python",
   "name": "python",
   "nbconvert_exporter": "python",
   "pygments_lexer": "ipython3",
   "version": "3.6.9"
  }
 },
 "nbformat": 4,
 "nbformat_minor": 2
}
